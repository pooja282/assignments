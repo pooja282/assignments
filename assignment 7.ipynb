{
 "cells": [
  {
   "cell_type": "markdown",
   "metadata": {},
   "source": [
    "# 7.Numpy"
   ]
  },
  {
   "cell_type": "markdown",
   "metadata": {},
   "source": [
    "# Write a function so that the columns of the output matrix are powers of the input vector"
   ]
  },
  {
   "cell_type": "markdown",
   "metadata": {},
   "source": [
    "\n",
    "\n",
    "\n",
    "The order of the powers is determined by the increasing boolean argument. Specifically, when increasing is False, the i-th output column is the input vector raised element-wise to the power of N - i - 1.\n",
    "\n",
    "\n",
    "\n",
    "\n",
    "\n",
    "HINT: Such a matrix with a geometric progression in each row is named for Alexandre-Theophile Vandermonde\n"
   ]
  },
  {
   "cell_type": "code",
   "execution_count": 3,
   "metadata": {},
   "outputs": [
    {
     "data": {
      "text/plain": [
       "array([[   1,    1,    1,    1,    1],\n",
       "       [   1,    6,   36,  216, 1296],\n",
       "       [   1,    9,   81,  729, 6561],\n",
       "       [   1,    8,   64,  512, 4096],\n",
       "       [   1,    5,   25,  125,  625]])"
      ]
     },
     "execution_count": 3,
     "metadata": {},
     "output_type": "execute_result"
    }
   ],
   "source": [
    "import numpy as np\n",
    "x = np.array ([1,6,9,8,5])\n",
    "np.vander(x)\n",
    "\n",
    "np.vander(x, increasing = True)"
   ]
  },
  {
   "cell_type": "code",
   "execution_count": 4,
   "metadata": {},
   "outputs": [
    {
     "data": {
      "text/plain": [
       "array([[   1,    1,    1,    1,    1],\n",
       "       [1296,  216,   36,    6,    1],\n",
       "       [6561,  729,   81,    9,    1],\n",
       "       [4096,  512,   64,    8,    1],\n",
       "       [ 625,  125,   25,    5,    1]])"
      ]
     },
     "execution_count": 4,
     "metadata": {},
     "output_type": "execute_result"
    }
   ],
   "source": [
    "np.vander(x, increasing = False)"
   ]
  },
  {
   "cell_type": "markdown",
   "metadata": {},
   "source": [
    "# Write a function to find moving average in an array over a window:"
   ]
  },
  {
   "cell_type": "markdown",
   "metadata": {},
   "source": [
    "Test it over ['3, 5, 7, 2, 8, 10, 11, 65, 72, 81, 99, 100, 150'] & window of 3"
   ]
  },
  {
   "cell_type": "code",
   "execution_count": 5,
   "metadata": {},
   "outputs": [
    {
     "name": "stdout",
     "output_type": "stream",
     "text": [
      "average sequence size: 11\n",
      "result list size: 11\n",
      "y1 = 5.0\n",
      "y2 = 4.666666666666667\n",
      "y3 = 5.666666666666667\n",
      "y4 = 6.666666666666667\n",
      "y5 = 9.666666666666666\n",
      "y6 = 28.666666666666668\n",
      "y7 = 49.333333333333336\n",
      "y8 = 72.66666666666667\n",
      "y9 = 84.0\n",
      "y10 = 93.33333333333333\n",
      "y11 = 116.33333333333333\n"
     ]
    }
   ],
   "source": [
    "myvar= [3, 5, 7, 2, 8, 10, 11, 65, 72, 81, 99, 100, 150] \n",
    "window = 3\n",
    "result = []\n",
    "\n",
    "for i in range(len(myvar)):\n",
    "    if i != len(myvar)-2:\n",
    "        result.append((myvar[i]+myvar[i+1]+myvar[i+2])/window)\n",
    "    else:\n",
    "        break\n",
    "result_size = len(myvar)-window+1\n",
    "print(f'average sequence size: {result_size}')\n",
    "print(f'result list size: {len(result)}')\n",
    "for i in range(len(result)):\n",
    "    print(f'y{i+1} = {result[i]}')"
   ]
  }
 ],
 "metadata": {
  "kernelspec": {
   "display_name": "Python 3",
   "language": "python",
   "name": "python3"
  },
  "language_info": {
   "codemirror_mode": {
    "name": "ipython",
    "version": 3
   },
   "file_extension": ".py",
   "mimetype": "text/x-python",
   "name": "python",
   "nbconvert_exporter": "python",
   "pygments_lexer": "ipython3",
   "version": "3.7.1"
  }
 },
 "nbformat": 4,
 "nbformat_minor": 2
}
