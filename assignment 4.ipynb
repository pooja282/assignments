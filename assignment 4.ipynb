{
 "cells": [
  {
   "cell_type": "code",
   "execution_count": 1,
   "metadata": {},
   "outputs": [
    {
     "name": "stdout",
     "output_type": "stream",
     "text": [
      "Enter side a: 4\n",
      "Enter side b: 8\n",
      "Enter side c: 7\n",
      "Area of traingle is 13.998 cm^2\n"
     ]
    }
   ],
   "source": [
    "#Write a Python Program(with class concepts) to find the area of the triangle using the below formula.\n",
    "area = (s*(s-a)*(s-b)*(s-c)) ** 0.5\n",
    "\n",
    "class Triangle:\n",
    "    def __init__(self):\n",
    "        self.a = float(input(\"Enter side a: \"))\n",
    "        self.b = float(input(\"Enter side b: \"))\n",
    "        self.c = float(input(\"Enter side c: \"))\n",
    "\n",
    "        \n",
    "class Area(Triangle):\n",
    "    def area(self):\n",
    "        s = (self.a + self.b + self.c) / 2\n",
    "        area = (s * (s - self.a)*(s - self.b)*(s - self.c)) ** 0.5\n",
    "        print(f\"Area of traingle is {area:.3f} cm^2\")\n",
    "        \n",
    "        \n",
    "a = Area()\n",
    "a.area()\n",
    "        "
   ]
  },
  {
   "cell_type": "code",
   "execution_count": 2,
   "metadata": {},
   "outputs": [
    {
     "name": "stdout",
     "output_type": "stream",
     "text": [
      "Longest word [\"indian cricket\",\"city\",\"age\",\"beautiful\",\"morning\"] : indian cricket\n"
     ]
    }
   ],
   "source": [
    "#Write function filter_long_words() that takes list of words&integer n & returns the list of words that longer than n.\n",
    "\n",
    "from functools import reduce\n",
    "list_words = [\"indian cricket\",\"city\",\"age\",\"beautiful\",\"morning\"]\n",
    "\n",
    "\n",
    "def longestWord(list_words):\n",
    "     return reduce( (lambda x,y:y if len(y) > len(x) else x), list_words )\n",
    "\n",
    "print ('Longest word [\"indian cricket\",\"city\",\"age\",\"beautiful\",\"morning\"] : ' + longestWord(list_words) )"
   ]
  },
  {
   "cell_type": "code",
   "execution_count": 4,
   "metadata": {},
   "outputs": [
    {
     "name": "stdout",
     "output_type": "stream",
     "text": [
      "True\n",
      "False\n"
     ]
    }
   ],
   "source": [
    "#Write Python function which takes  character (i.e. a string of length 1)&returns True if it is vowel, False otherwise\n",
    "\n",
    "def is_vowel(char):\n",
    "    all_vowels = 'aeiou'\n",
    "    return char in all_vowels\n",
    "print(is_vowel('o'))\n",
    "print(is_vowel('l'))"
   ]
  },
  {
   "cell_type": "code",
   "execution_count": 5,
   "metadata": {},
   "outputs": [
    {
     "name": "stdout",
     "output_type": "stream",
     "text": [
      "wordlength:[2, 3, 4]\n"
     ]
    }
   ],
   "source": [
    "#Write program using func. concept maps list of words into list of integers representing len.of corresponding words.\n",
    "\n",
    "Words = ['ab','cde','erty']\n",
    " \n",
    "I = []\n",
    " \n",
    "for i in range(len(Words)):\n",
    "    I.append(len(Words[i]))\n",
    " \n",
    "   \n",
    "print (\"wordlength:\"+str(I))"
   ]
  },
  {
   "cell_type": "code",
   "execution_count": null,
   "metadata": {},
   "outputs": [],
   "source": []
  }
 ],
 "metadata": {
  "kernelspec": {
   "display_name": "Python 3",
   "language": "python",
   "name": "python3"
  },
  "language_info": {
   "codemirror_mode": {
    "name": "ipython",
    "version": 3
   },
   "file_extension": ".py",
   "mimetype": "text/x-python",
   "name": "python",
   "nbconvert_exporter": "python",
   "pygments_lexer": "ipython3",
   "version": "3.7.1"
  }
 },
 "nbformat": 4,
 "nbformat_minor": 2
}
